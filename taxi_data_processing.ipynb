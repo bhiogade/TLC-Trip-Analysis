{
 "cells": [
  {
   "cell_type": "code",
   "execution_count": 1,
   "metadata": {},
   "outputs": [],
   "source": [
    "import os\n",
    "import pyarrow.parquet as pq\n",
    "import pandas as pd"
   ]
  },
  {
   "cell_type": "code",
   "execution_count": 2,
   "metadata": {},
   "outputs": [],
   "source": [
    "df = pd.DataFrame()"
   ]
  },
  {
   "cell_type": "code",
   "execution_count": 3,
   "metadata": {},
   "outputs": [],
   "source": [
    "parquet_folder = 'Dataset'\n",
    "output_csv_file = 'process_output.csv'"
   ]
  },
  {
   "cell_type": "code",
   "execution_count": 4,
   "metadata": {},
   "outputs": [],
   "source": [
    "def convert_parquet_to_csv(parquet_folder, output_csv_file):\n",
    "    # Initialize an empty list to store the dataframes\n",
    "    dfs = []\n",
    "\n",
    "    # Iterate over the Parquet files in the folder, in a specific order\n",
    "    for i in range(1, 3): \n",
    "        file_name = f\"yellow_tripdata_2016-{i}.parquet\"\n",
    "        file_path = os.path.join(parquet_folder, file_name)\n",
    "        if os.path.exists(file_path):\n",
    "            # Read the Parquet file\n",
    "            table = pq.read_table(file_path)\n",
    "            # Convert to Pandas DataFrame\n",
    "            df = table.to_pandas()\n",
    "            # Append to the list of DataFrames\n",
    "            dfs.append(df)\n",
    "\n",
    "    # Concatenate the DataFrames\n",
    "    combined_df = pd.concat(dfs, ignore_index=True)\n",
    "\n",
    "    # Write to CSV file\n",
    "    combined_df.to_csv(output_csv_file, index=False)\n",
    "\n"
   ]
  },
  {
   "cell_type": "code",
   "execution_count": 5,
   "metadata": {},
   "outputs": [],
   "source": [
    "convert_parquet_to_csv(parquet_folder, output_csv_file)"
   ]
  },
  {
   "cell_type": "code",
   "execution_count": null,
   "metadata": {},
   "outputs": [],
   "source": []
  }
 ],
 "metadata": {
  "kernelspec": {
   "display_name": "Python 3",
   "language": "python",
   "name": "python3"
  },
  "language_info": {
   "codemirror_mode": {
    "name": "ipython",
    "version": 3
   },
   "file_extension": ".py",
   "mimetype": "text/x-python",
   "name": "python",
   "nbconvert_exporter": "python",
   "pygments_lexer": "ipython3",
   "version": "3.9.6"
  }
 },
 "nbformat": 4,
 "nbformat_minor": 2
}
